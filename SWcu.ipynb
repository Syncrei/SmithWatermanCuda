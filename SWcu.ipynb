{
  "nbformat": 4,
  "nbformat_minor": 0,
  "metadata": {
    "colab": {
      "provenance": [],
      "gpuType": "T4",
      "include_colab_link": true
    },
    "kernelspec": {
      "name": "python3",
      "display_name": "Python 3"
    },
    "language_info": {
      "name": "python"
    },
    "accelerator": "GPU"
  },
  "cells": [
    {
      "cell_type": "markdown",
      "metadata": {
        "id": "view-in-github",
        "colab_type": "text"
      },
      "source": [
        "<a href=\"https://colab.research.google.com/github/Syncrei/SmithWatermanCuda/blob/main/SWcu.ipynb\" target=\"_parent\"><img src=\"https://colab.research.google.com/assets/colab-badge.svg\" alt=\"Open In Colab\"/></a>"
      ]
    },
    {
      "cell_type": "code",
      "source": [
        "from google.colab import drive\n",
        "drive.mount('/content/drive')"
      ],
      "metadata": {
        "id": "DoqUrDLF_MHj"
      },
      "execution_count": null,
      "outputs": []
    },
    {
      "cell_type": "code",
      "source": [
        "%cd drive/MyDrive/SWcu"
      ],
      "metadata": {
        "id": "v2xY6teiHVth",
        "colab": {
          "base_uri": "https://localhost:8080/"
        },
        "outputId": "0e795cc0-6c44-4156-c481-684666ee6f54"
      },
      "execution_count": null,
      "outputs": [
        {
          "output_type": "stream",
          "name": "stdout",
          "text": [
            "[Errno 2] No such file or directory: 'drive/MyDrive/SWcu'\n",
            "/content\n"
          ]
        }
      ]
    },
    {
      "cell_type": "code",
      "source": [
        "!nvcc sw.cu -o sw"
      ],
      "metadata": {
        "id": "4wm_uN8UdpzF"
      },
      "execution_count": 31,
      "outputs": []
    },
    {
      "cell_type": "code",
      "source": [
        "%%shell\n",
        "nvprof ./sw  --db db2.txt --query query1.txt --out out.txt"
      ],
      "metadata": {
        "id": "WJ5oU7RxXIAS",
        "colab": {
          "base_uri": "https://localhost:8080/"
        },
        "outputId": "5629039d-e574-430a-ba77-37235eb1768a"
      },
      "execution_count": 32,
      "outputs": [
        {
          "output_type": "stream",
          "name": "stdout",
          "text": [
            "==8776== NVPROF is profiling process 8776, command: ./sw --db db2.txt --query query1.txt --out out.txt\n",
            "==8776== Profiling application: ./sw --db db2.txt --query query1.txt --out out.txt\n",
            "==8776== Profiling result:\n",
            "            Type  Time(%)      Time     Calls       Avg       Min       Max  Name\n",
            " GPU activities:   70.18%  108.269s    288144  375.75us  4.2240us  789.46us  CalculateAllDdScoreKernel(int, char*, int, char*, int*, int*, int, int, int)\n",
            "                   29.10%  44.8883s        18  2.49380s  2.07669s  2.52657s  MaxScoreDbKernel(int*, int*, int*, int)\n",
            "                    0.72%  1.11693s        36  31.026ms  1.0550us  64.331ms  [CUDA memset]\n",
            "                    0.00%  740.82us        37  20.022us  1.0240us  41.727us  [CUDA memcpy HtoD]\n",
            "                    0.00%  32.542us        18  1.8070us  1.7920us  1.8240us  [CUDA memcpy DtoH]\n",
            "      API calls:   67.51%  108.618s    288162  376.94us  3.1970us  59.993ms  cudaLaunchKernel\n",
            "                   28.38%  45.6651s        55  830.27ms  28.164us  2.57217s  cudaMemcpy\n",
            "                    3.97%  6.38764s        73  87.502ms  4.2420us  374.47ms  cudaMalloc\n",
            "                    0.14%  230.10ms        73  3.1520ms  5.6750us  19.674ms  cudaFree\n",
            "                    0.00%  2.0151ms        36  55.975us  14.780us  215.24us  cudaMemset\n",
            "                    0.00%  116.27us       101  1.1510us     142ns  48.358us  cuDeviceGetAttribute\n",
            "                    0.00%  101.19us         1  101.19us  101.19us  101.19us  cudaGetDeviceProperties\n",
            "                    0.00%  25.018us         1  25.018us  25.018us  25.018us  cuDeviceGetName\n",
            "                    0.00%  13.714us         1  13.714us  13.714us  13.714us  cudaMemGetInfo\n",
            "                    0.00%  7.1350us         1  7.1350us  7.1350us  7.1350us  cuDeviceGetPCIBusId\n",
            "                    0.00%  2.2330us         3     744ns     202ns  1.7620us  cuDeviceGetCount\n",
            "                    0.00%  1.0160us         2     508ns     172ns     844ns  cuDeviceGet\n",
            "                    0.00%     522ns         1     522ns     522ns     522ns  cuModuleGetLoadingMode\n",
            "                    0.00%     425ns         1     425ns     425ns     425ns  cuDeviceTotalMem\n",
            "                    0.00%     254ns         1     254ns     254ns     254ns  cuDeviceGetUuid\n"
          ]
        },
        {
          "output_type": "execute_result",
          "data": {
            "text/plain": []
          },
          "metadata": {},
          "execution_count": 32
        }
      ]
    },
    {
      "cell_type": "markdown",
      "source": [],
      "metadata": {
        "id": "-mxPxngAJZxX"
      }
    },
    {
      "cell_type": "code",
      "source": [
        "%%timeit"
      ],
      "metadata": {
        "id": "8E77ovZgiz2o"
      },
      "execution_count": null,
      "outputs": []
    },
    {
      "cell_type": "markdown",
      "source": [
        "204 ms ± 415 µs per loop (mean ± std. dev. of 7 runs, 1 loop each)"
      ],
      "metadata": {
        "id": "WqF83hdOKuSx"
      }
    },
    {
      "cell_type": "code",
      "source": [
        "%%writefile sw.cu\n",
        "\n",
        "#include <iostream>\n",
        "#include <vector>\n",
        "#include <algorithm>\n",
        "#include <stdio.h>\n",
        "#include <fstream>\n",
        "#include <string>\n",
        "#include <fstream>\n",
        "#include <sstream>\n",
        "#include <iterator>\n",
        "#include <thrust/device_vector.h>\n",
        "\n",
        "bool compareSecondElementDescending(const std::pair<int, char>& a, const std::pair<int, char>& b) {\n",
        "    return a.second > b.second;\n",
        "}\n",
        "\n",
        "bool ReadFromFileDB(const std::string& pathToFile, int& index, std::string& seq);\n",
        "bool ReadDBLimited(const std::string& pathToFile, const long long& maxWeight, const int& querySize,int& maxLen,\n",
        "    std::vector<int>& indexDb, std::vector<int>& indexChar, std::string& seqDb);\n",
        "void ReadFileQuery(std::string& a, std::string file_patch);\n",
        "void WriteFileOut(std::string file_patch, std::vector<std::pair<int, int>> scores, int max_results);\n",
        "\n",
        "__global__\n",
        "void CalculateAllDdScoreKernel(int currentStep, char* query, int sizeSeq1, char* dbQuery, int* indexChar, int* scoreMatrixDb,\n",
        "    int matchScore, int mismatchScore, int gapScore) {\n",
        "\n",
        "    long blockId = blockIdx.x;\n",
        "    long threadId = blockIdx.y * blockDim.x + threadIdx.x;\n",
        "\n",
        "    int j = threadId + 1;\n",
        "    int i = currentStep + 2 - j;\n",
        "    int startIdx = (blockId == 0) ? 0 : indexChar[blockId - 1];\n",
        "    int endIdx = indexChar[blockId];\n",
        "    int sizeSeq2 = endIdx - startIdx;\n",
        "\n",
        "\n",
        "    if (i > 0 && j > 0 && i <= sizeSeq1 && j <= sizeSeq2) {\n",
        "        char* seq2 = dbQuery + startIdx;\n",
        "        int* scoreMatrix = scoreMatrixDb + (startIdx + blockId) * (sizeSeq1 + blockId);\n",
        "\n",
        "        int score_diag = scoreMatrix[(i - 1) * (sizeSeq2 + 1) + j - 1] + (query[i - 1] == seq2[j - 1] ? matchScore : mismatchScore);\n",
        "        int score_up = scoreMatrix[(i - 1) * (sizeSeq2 + 1) + j] + gapScore;\n",
        "        int score_left = scoreMatrix[i * (sizeSeq2 + 1) + j - 1] + gapScore;\n",
        "        scoreMatrix[i * (sizeSeq2 + 1) + j] = max(0, max(score_diag, max(score_up, score_left)));\n",
        "\n",
        "    }\n",
        "}\n",
        "\n",
        "__global__\n",
        "void MaxScoreDbKernel(int* maxScore, int* scoreMatrixDb, int* indexChar, int sizeSeq1)\n",
        "{\n",
        "    long threadId = blockIdx.y * blockDim.x + threadIdx.x;\n",
        "    int startIdx = (threadId == 0) ? 0 : indexChar[threadId - 1];\n",
        "    int endIdx = indexChar[threadId];\n",
        "    int sizeSeq2 = endIdx - startIdx;\n",
        "\n",
        "    int* scoreMatrix = scoreMatrixDb + (startIdx + threadId) * (sizeSeq1 + threadId);\n",
        "    int maxSc = 0;\n",
        "    for (int i = 0; i < (sizeSeq1 + 1) * (sizeSeq2 + 1); i++) maxSc = max(maxSc, scoreMatrix[i]);\n",
        "    maxScore[threadId] = maxSc;\n",
        "}\n",
        "\n",
        "void CalculateAllDdScore(std::string db_patch, std::string query_patch, std::string out_patch, int max_results) {\n",
        "    int matchScore = 1;\n",
        "    int mismatchScore = -1;\n",
        "    int gapScore = -2;\n",
        "\n",
        "    std::string query;\n",
        "    ReadFileQuery(query, query_patch);\n",
        "\n",
        "\n",
        "    char* d_query;\n",
        "\n",
        "    cudaMalloc(&d_query, query.size() * sizeof(char));\n",
        "    cudaMemcpy(d_query, query.c_str(), query.size() * sizeof(char), cudaMemcpyHostToDevice);\n",
        "\n",
        "    cudaDeviceProp deviceProp;\n",
        "    size_t freeMemory, totalMemory;\n",
        "    cudaGetDeviceProperties(&deviceProp, 0);\n",
        "    cudaMemGetInfo(&freeMemory, &totalMemory);\n",
        "\n",
        "    std::vector<int> score;\n",
        "    std::vector<int> indexes;\n",
        "\n",
        "    std::vector<int> indexDb;\n",
        "    std::vector<int> indexChar;\n",
        "    std::string seqDb;\n",
        "    int maxLen = query.size();\n",
        "\n",
        "    while (ReadDBLimited(db_patch, (long long) freeMemory * 0.95, query.size(), maxLen, indexDb, indexChar, seqDb))\n",
        "    {\n",
        "\n",
        "        int countSeq = indexDb.size();\n",
        "        char* d_seqDb;\n",
        "        int* d_indexChar;\n",
        "        int* d_scoreMatrix;\n",
        "\n",
        "\n",
        "        cudaMalloc(&d_seqDb, seqDb.size() * sizeof(char));\n",
        "        cudaMalloc(&d_indexChar, countSeq * sizeof(int));\n",
        "        cudaMalloc(&d_scoreMatrix, (countSeq + seqDb.size()) * (countSeq + query.size()) * sizeof(int));\n",
        "\n",
        "        cudaMemcpy(d_seqDb, seqDb.data(), seqDb.size(), cudaMemcpyHostToDevice);\n",
        "        cudaMemcpy(d_indexChar, indexChar.data(), indexChar.size() * sizeof(int), cudaMemcpyHostToDevice);\n",
        "        cudaMemset(d_scoreMatrix, 0, (countSeq + seqDb.size()) * (countSeq + query.size()) * sizeof(int));\n",
        "\n",
        "        int threadsPerBlock = min(1024, maxLen);\n",
        "        dim3 numBlocks(countSeq, (maxLen + threadsPerBlock - 1) / threadsPerBlock);\n",
        "        for (int i = 0; i < query.size() + maxLen - 1; i++) {\n",
        "            CalculateAllDdScoreKernel << <numBlocks, threadsPerBlock >> > (i, d_query, query.size(), d_seqDb, d_indexChar, d_scoreMatrix,\n",
        "                matchScore, mismatchScore, gapScore);\n",
        "        }\n",
        "\n",
        "        int* d_scoreMax;\n",
        "        cudaMalloc(&d_scoreMax, countSeq * sizeof(int));\n",
        "        cudaMemset(d_scoreMax, 0, countSeq * sizeof(int));\n",
        "\n",
        "        int threadsPerBlock1 = min(1024, countSeq);\n",
        "        int numBlocks1 = (countSeq + threadsPerBlock - 1) / threadsPerBlock;\n",
        "        MaxScoreDbKernel<<<numBlocks1,threadsPerBlock1 >>>(d_scoreMax, d_scoreMatrix, d_indexChar, (int)query.size());\n",
        "\n",
        "        int size = countSeq * sizeof(int);\n",
        "        int* h_data = (int*)malloc(size);\n",
        "        cudaMemcpy(h_data, d_scoreMax, size, cudaMemcpyDeviceToHost);\n",
        "        std::vector<int> vec(h_data, h_data + size / sizeof(int));\n",
        "\n",
        "        score.insert(score.end(), vec.begin(), vec.end());\n",
        "        indexes.insert(indexes.end(), indexDb.begin(), indexDb.end());\n",
        "\n",
        "\n",
        "        indexDb.clear();\n",
        "        indexChar.clear();\n",
        "        seqDb.clear();\n",
        "        maxLen = query.size();\n",
        "\n",
        "        cudaFree(d_seqDb);\n",
        "        cudaFree(d_indexChar);\n",
        "        cudaFree(d_scoreMatrix);\n",
        "        cudaFree(d_scoreMax);\n",
        "\n",
        "        delete[] h_data;\n",
        "    }\n",
        "\n",
        "    cudaFree(d_query);\n",
        "\n",
        "    std::vector<std::pair<int, int>> scorAndIndex;\n",
        "    for (int i = 0; i < indexes.size(); i++) {\n",
        "        scorAndIndex.push_back(std::make_pair(indexes[i], score[i]));\n",
        "    }\n",
        "\n",
        "    std::sort(scorAndIndex.begin(), scorAndIndex.end(), compareSecondElementDescending);\n",
        "\n",
        "    WriteFileOut(out_patch, scorAndIndex, max_results);\n",
        "\n",
        "}\n",
        "\n",
        "\n",
        "int32_t main(int argc, char* argv[]) {\n",
        "\n",
        "\n",
        "    std::string db_name;\n",
        "    std::string query_name;\n",
        "    std::string out_name;\n",
        "    int max_results = 250;\n",
        "\n",
        "    for (int i = 1; i < argc; i++) {\n",
        "        if (std::strcmp(argv[i], \"--db\") == 0 && i + 1 < argc) {\n",
        "            db_name = argv[++i];\n",
        "        }\n",
        "        else if (std::strcmp(argv[i], \"--query\") == 0 && i + 1 < argc) {\n",
        "            query_name = argv[++i];\n",
        "        }\n",
        "        else if (std::strcmp(argv[i], \"--out\") == 0 && i + 1 < argc) {\n",
        "            out_name = argv[++i];\n",
        "        }\n",
        "        else if (std::strcmp(argv[i], \"--max_results\") == 0 && i + 1 < argc) {\n",
        "            max_results = std::stoi(argv[++i]);\n",
        "        }\n",
        "    }\n",
        "\n",
        "    if (db_name.empty() || query_name.empty() || out_name.empty()) {\n",
        "        std::cerr << \"Error: Missing parameters! You need to provide --db, --query, and --out.\\n\";\n",
        "        return 1;\n",
        "    }\n",
        "\n",
        "    CalculateAllDdScore(db_name, query_name, out_name, max_results);\n",
        "    return 0;\n",
        "}\n",
        "\n",
        "void WriteFileOut(std::string file_patch, std::vector<std::pair<int, int>> scores, int max_results) {\n",
        "\n",
        "    std::ofstream out;\n",
        "    out.open(file_patch);\n",
        "    if (out.is_open()) {\n",
        "        int i = 1;\n",
        "        for (std::pair<int, int> score : scores) {\n",
        "            out << score.first << \", \" << score.second << \"\\n\";\n",
        "            if (i++ >= max_results) break;\n",
        "        }\n",
        "    }\n",
        "    out.close();\n",
        "}\n",
        "\n",
        "void ReadFileQuery(std::string& a, std::string file_patch) {\n",
        "    std::ifstream in(file_patch);\n",
        "    if (in.is_open()) {\n",
        "        std::getline(in, a);\n",
        "    }\n",
        "    in.close();\n",
        "}\n",
        "\n",
        "bool ReadFromFileDB(const std::string& pathToFile, int& index, std::string& seq) {\n",
        "    static std::ifstream file(pathToFile);\n",
        "    static std::string line;\n",
        "\n",
        "    if (std::getline(file, line)) {\n",
        "        std::stringstream ss(line);\n",
        "        std::string temp;\n",
        "        if (std::getline(ss, temp, '|')) {\n",
        "            index = std::stoi(temp);\n",
        "            std::getline(ss, seq);\n",
        "            return true;\n",
        "        }\n",
        "    }\n",
        "\n",
        "    file.close();\n",
        "    return false;\n",
        "}\n",
        "\n",
        "bool ReadDBLimited(const std::string& pathToFile, const long long& maxWeight, const int& querySize, int& maxLen,\n",
        "    std::vector<int>& indexDb, std::vector<int>& indexChar, std::string& seqDb) {\n",
        "    static std::string lineS;\n",
        "    static int indexS;\n",
        "\n",
        "    long long weight = 0;\n",
        "    if (lineS.size() != 0)\n",
        "    {\n",
        "        seqDb += lineS;\n",
        "        indexDb.push_back(indexS);\n",
        "        indexChar.push_back(lineS.size());\n",
        "        weight += lineS.size() * sizeof(char) + (1 + querySize) * (1 + lineS.size()) * sizeof(int) + sizeof(int)*2;\n",
        "        maxLen = std::max(maxLen, (int)lineS.size());\n",
        "    }\n",
        "\n",
        "    lineS = \"\";\n",
        "    int index;\n",
        "    std::string seq;\n",
        "\n",
        "    long long tWeight = 0;\n",
        "    while (ReadFromFileDB(pathToFile, index, seq))\n",
        "    {\n",
        "        tWeight = seq.size() * sizeof(char) + (1 + querySize) * (1 + seq.size()) * sizeof(int) + sizeof(int)*2;\n",
        "        if (tWeight + weight < maxWeight) {\n",
        "            seqDb += seq;\n",
        "            indexDb.push_back(index);\n",
        "            indexChar.push_back(seqDb.size());\n",
        "            weight += tWeight;\n",
        "            maxLen = std::max(maxLen, (int)seq.size());\n",
        "        }\n",
        "        else {\n",
        "            lineS = seq;\n",
        "            indexS = index;\n",
        "            return true;\n",
        "        }\n",
        "    }\n",
        "    return seqDb.size() == 0 ? false : true;\n",
        "}\n",
        "\n"
      ],
      "metadata": {
        "id": "IxAS2SlirLeB",
        "colab": {
          "base_uri": "https://localhost:8080/"
        },
        "outputId": "3ff0dc13-17c7-4734-da23-20e975bf0355"
      },
      "execution_count": 1,
      "outputs": [
        {
          "output_type": "stream",
          "name": "stdout",
          "text": [
            "Writing sw.cu\n"
          ]
        }
      ]
    },
    {
      "cell_type": "code",
      "source": [],
      "metadata": {
        "id": "GhH451XALfVc"
      },
      "execution_count": null,
      "outputs": []
    }
  ]
}